{
 "cells": [
  {
   "cell_type": "code",
   "execution_count": 1,
   "id": "cd92b1d4",
   "metadata": {},
   "outputs": [
    {
     "name": "stdout",
     "output_type": "stream",
     "text": [
      "✅ Combined 86 files into: output\\master_combined.xlsx\n"
     ]
    }
   ],
   "source": [
    "import os\n",
    "import pandas as pd\n",
    "\n",
    "cleaned_dir = r\"output\\cleaned_excels\"\n",
    "combined_output = r\"output\\master_combined.xlsx\"\n",
    "\n",
    "# Load and concatenate all cleaned files\n",
    "all_dfs = []\n",
    "\n",
    "for file in os.listdir(cleaned_dir):\n",
    "    if file.endswith(\".xlsx\"):\n",
    "        file_path = os.path.join(cleaned_dir, file)\n",
    "        df = pd.read_excel(file_path)\n",
    "        all_dfs.append(df)\n",
    "\n",
    "# Combine into one DataFrame\n",
    "combined_df = pd.concat(all_dfs, ignore_index=True)\n",
    "\n",
    "# Optional: sort by Date + State for consistency\n",
    "combined_df = combined_df.sort_values(by=[\"Date\", \"States/UTs\"])\n",
    "\n",
    "# Save to Excel or CSV\n",
    "combined_df.to_excel(combined_output, index=False)\n",
    "# Or use this to save as CSV:\n",
    "# combined_df.to_csv(combined_output.replace(\".xlsx\", \".csv\"), index=False)\n",
    "\n",
    "print(f\"✅ Combined {len(all_dfs)} files into: {combined_output}\")\n"
   ]
  },
  {
   "cell_type": "code",
   "execution_count": null,
   "id": "9c47b05c",
   "metadata": {},
   "outputs": [],
   "source": []
  }
 ],
 "metadata": {
  "kernelspec": {
   "display_name": "Python 3",
   "language": "python",
   "name": "python3"
  },
  "language_info": {
   "codemirror_mode": {
    "name": "ipython",
    "version": 3
   },
   "file_extension": ".py",
   "mimetype": "text/x-python",
   "name": "python",
   "nbconvert_exporter": "python",
   "pygments_lexer": "ipython3",
   "version": "3.11.4"
  }
 },
 "nbformat": 4,
 "nbformat_minor": 5
}
